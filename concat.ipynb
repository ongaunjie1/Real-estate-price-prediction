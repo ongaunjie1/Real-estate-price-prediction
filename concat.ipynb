{
 "cells": [
  {
   "cell_type": "markdown",
   "metadata": {},
   "source": [
    "## Combine csv files for year 2019-2022"
   ]
  },
  {
   "cell_type": "code",
   "execution_count": 360,
   "metadata": {},
   "outputs": [],
   "source": [
    "import os\n",
    "import glob\n",
    "import pandas as pd\n",
    "\n",
    "# Path to the directory containing CSV files\n",
    "directory_path = './data/2019-2022/'\n",
    "\n",
    "# List all CSV files in the directory\n",
    "csv_files = glob.glob(os.path.join(directory_path, '*.csv'))\n",
    "\n",
    "# Combine CSV files into a single DataFrame\n",
    "combined_df = pd.concat((pd.read_csv(f) for f in csv_files), ignore_index=True)\n",
    "\n",
    "# Save the combined DataFrame to a new CSV file\n",
    "combined_df.to_csv(os.path.join(directory_path, 'combined_file.csv'), index=False)\n"
   ]
  },
  {
   "cell_type": "markdown",
   "metadata": {},
   "source": [
    "## Read in the 2002-2018 csv file"
   ]
  },
  {
   "cell_type": "code",
   "execution_count": 313,
   "metadata": {},
   "outputs": [],
   "source": [
    "import pandas as pd"
   ]
  },
  {
   "cell_type": "code",
   "execution_count": 314,
   "metadata": {},
   "outputs": [
    {
     "data": {
      "text/html": [
       "<div>\n",
       "<style scoped>\n",
       "    .dataframe tbody tr th:only-of-type {\n",
       "        vertical-align: middle;\n",
       "    }\n",
       "\n",
       "    .dataframe tbody tr th {\n",
       "        vertical-align: top;\n",
       "    }\n",
       "\n",
       "    .dataframe thead th {\n",
       "        text-align: right;\n",
       "    }\n",
       "</style>\n",
       "<table border=\"1\" class=\"dataframe\">\n",
       "  <thead>\n",
       "    <tr style=\"text-align: right;\">\n",
       "      <th></th>\n",
       "      <th>PropType</th>\n",
       "      <th>Taxkey</th>\n",
       "      <th>Address</th>\n",
       "      <th>CondoProject</th>\n",
       "      <th>District</th>\n",
       "      <th>Nbhd</th>\n",
       "      <th>Style</th>\n",
       "      <th>Extwall</th>\n",
       "      <th>Stories</th>\n",
       "      <th>Year_Built</th>\n",
       "      <th>Nr_of_rms</th>\n",
       "      <th>Fin_sqft</th>\n",
       "      <th>Units</th>\n",
       "      <th>Bdrms</th>\n",
       "      <th>Fbath</th>\n",
       "      <th>Hbath</th>\n",
       "      <th>Lotsize</th>\n",
       "      <th>Sale_date</th>\n",
       "      <th>Sale_price</th>\n",
       "    </tr>\n",
       "  </thead>\n",
       "  <tbody>\n",
       "    <tr>\n",
       "      <th>0</th>\n",
       "      <td>Commercial</td>\n",
       "      <td>3230461110</td>\n",
       "      <td>2628 N 6TH ST</td>\n",
       "      <td>NaN</td>\n",
       "      <td>6</td>\n",
       "      <td>6258</td>\n",
       "      <td>Commercial Exempt</td>\n",
       "      <td>NaN</td>\n",
       "      <td>2.0</td>\n",
       "      <td>1880</td>\n",
       "      <td>0</td>\n",
       "      <td>1840</td>\n",
       "      <td>1</td>\n",
       "      <td>0</td>\n",
       "      <td>0</td>\n",
       "      <td>0</td>\n",
       "      <td>12750</td>\n",
       "      <td>2002-01</td>\n",
       "      <td>15900</td>\n",
       "    </tr>\n",
       "    <tr>\n",
       "      <th>1</th>\n",
       "      <td>Commercial</td>\n",
       "      <td>3590192000</td>\n",
       "      <td>1363 N PROSPECT AV</td>\n",
       "      <td>NaN</td>\n",
       "      <td>3</td>\n",
       "      <td>6262</td>\n",
       "      <td>Mansions With Commercial Usage</td>\n",
       "      <td>NaN</td>\n",
       "      <td>2.0</td>\n",
       "      <td>1876</td>\n",
       "      <td>0</td>\n",
       "      <td>6377</td>\n",
       "      <td>1</td>\n",
       "      <td>0</td>\n",
       "      <td>0</td>\n",
       "      <td>0</td>\n",
       "      <td>11840</td>\n",
       "      <td>2002-01</td>\n",
       "      <td>850000</td>\n",
       "    </tr>\n",
       "    <tr>\n",
       "      <th>2</th>\n",
       "      <td>Commercial</td>\n",
       "      <td>4161194000</td>\n",
       "      <td>617 S 94TH ST</td>\n",
       "      <td>NaN</td>\n",
       "      <td>10</td>\n",
       "      <td>6272</td>\n",
       "      <td>Service Building</td>\n",
       "      <td>NaN</td>\n",
       "      <td>1.0</td>\n",
       "      <td>1954</td>\n",
       "      <td>0</td>\n",
       "      <td>5022</td>\n",
       "      <td>1</td>\n",
       "      <td>0</td>\n",
       "      <td>0</td>\n",
       "      <td>0</td>\n",
       "      <td>9700</td>\n",
       "      <td>2002-01</td>\n",
       "      <td>119000</td>\n",
       "    </tr>\n",
       "    <tr>\n",
       "      <th>3</th>\n",
       "      <td>Commercial</td>\n",
       "      <td>1719836000</td>\n",
       "      <td>3624 W SILVER SPRING DR</td>\n",
       "      <td>NaN</td>\n",
       "      <td>1</td>\n",
       "      <td>6218</td>\n",
       "      <td>Store Bldg - Multi Story (Store &amp; Apt, Store &amp; O</td>\n",
       "      <td>NaN</td>\n",
       "      <td>2.0</td>\n",
       "      <td>1955</td>\n",
       "      <td>0</td>\n",
       "      <td>6420</td>\n",
       "      <td>1</td>\n",
       "      <td>0</td>\n",
       "      <td>0</td>\n",
       "      <td>0</td>\n",
       "      <td>8792</td>\n",
       "      <td>2002-01</td>\n",
       "      <td>210000</td>\n",
       "    </tr>\n",
       "    <tr>\n",
       "      <th>4</th>\n",
       "      <td>Commercial</td>\n",
       "      <td>3480290000</td>\n",
       "      <td>3830 W LISBON AV</td>\n",
       "      <td>NaN</td>\n",
       "      <td>15</td>\n",
       "      <td>6254</td>\n",
       "      <td>Store Bldg - Multi Story (Store &amp; Apt, Store &amp; O</td>\n",
       "      <td>NaN</td>\n",
       "      <td>2.0</td>\n",
       "      <td>1909</td>\n",
       "      <td>0</td>\n",
       "      <td>5956</td>\n",
       "      <td>1</td>\n",
       "      <td>0</td>\n",
       "      <td>0</td>\n",
       "      <td>0</td>\n",
       "      <td>4840</td>\n",
       "      <td>2002-01</td>\n",
       "      <td>48500</td>\n",
       "    </tr>\n",
       "  </tbody>\n",
       "</table>\n",
       "</div>"
      ],
      "text/plain": [
       "     PropType      Taxkey                  Address CondoProject  District  \\\n",
       "0  Commercial  3230461110            2628 N 6TH ST          NaN         6   \n",
       "1  Commercial  3590192000       1363 N PROSPECT AV          NaN         3   \n",
       "2  Commercial  4161194000            617 S 94TH ST          NaN        10   \n",
       "3  Commercial  1719836000  3624 W SILVER SPRING DR          NaN         1   \n",
       "4  Commercial  3480290000         3830 W LISBON AV          NaN        15   \n",
       "\n",
       "   Nbhd                                             Style Extwall  Stories  \\\n",
       "0  6258                                 Commercial Exempt     NaN      2.0   \n",
       "1  6262                    Mansions With Commercial Usage     NaN      2.0   \n",
       "2  6272                                  Service Building     NaN      1.0   \n",
       "3  6218  Store Bldg - Multi Story (Store & Apt, Store & O     NaN      2.0   \n",
       "4  6254  Store Bldg - Multi Story (Store & Apt, Store & O     NaN      2.0   \n",
       "\n",
       "   Year_Built  Nr_of_rms  Fin_sqft  Units  Bdrms  Fbath  Hbath  Lotsize  \\\n",
       "0        1880          0      1840      1      0      0      0    12750   \n",
       "1        1876          0      6377      1      0      0      0    11840   \n",
       "2        1954          0      5022      1      0      0      0     9700   \n",
       "3        1955          0      6420      1      0      0      0     8792   \n",
       "4        1909          0      5956      1      0      0      0     4840   \n",
       "\n",
       "  Sale_date  Sale_price  \n",
       "0   2002-01       15900  \n",
       "1   2002-01      850000  \n",
       "2   2002-01      119000  \n",
       "3   2002-01      210000  \n",
       "4   2002-01       48500  "
      ]
     },
     "execution_count": 314,
     "metadata": {},
     "output_type": "execute_result"
    }
   ],
   "source": [
    "df_1 = pd.read_csv('./data/2002-2018-property-sales-data.csv')\n",
    "df_1.head()"
   ]
  },
  {
   "cell_type": "code",
   "execution_count": 315,
   "metadata": {},
   "outputs": [],
   "source": [
    "df_1['Sale_date'] = pd.to_datetime(df_1['Sale_date'], format='%Y-%m')"
   ]
  },
  {
   "cell_type": "code",
   "execution_count": 316,
   "metadata": {},
   "outputs": [],
   "source": [
    "df_1['Sale_date'] = df_1['Sale_date'].dt.strftime('%Y-%m')"
   ]
  },
  {
   "cell_type": "code",
   "execution_count": 317,
   "metadata": {},
   "outputs": [
    {
     "data": {
      "text/html": [
       "<div>\n",
       "<style scoped>\n",
       "    .dataframe tbody tr th:only-of-type {\n",
       "        vertical-align: middle;\n",
       "    }\n",
       "\n",
       "    .dataframe tbody tr th {\n",
       "        vertical-align: top;\n",
       "    }\n",
       "\n",
       "    .dataframe thead th {\n",
       "        text-align: right;\n",
       "    }\n",
       "</style>\n",
       "<table border=\"1\" class=\"dataframe\">\n",
       "  <thead>\n",
       "    <tr style=\"text-align: right;\">\n",
       "      <th></th>\n",
       "      <th>PropType</th>\n",
       "      <th>Taxkey</th>\n",
       "      <th>Address</th>\n",
       "      <th>CondoProject</th>\n",
       "      <th>District</th>\n",
       "      <th>Nbhd</th>\n",
       "      <th>Style</th>\n",
       "      <th>Extwall</th>\n",
       "      <th>Stories</th>\n",
       "      <th>Year_Built</th>\n",
       "      <th>Nr_of_rms</th>\n",
       "      <th>Fin_sqft</th>\n",
       "      <th>Units</th>\n",
       "      <th>Bdrms</th>\n",
       "      <th>Fbath</th>\n",
       "      <th>Hbath</th>\n",
       "      <th>Lotsize</th>\n",
       "      <th>Sale_date</th>\n",
       "      <th>Sale_price</th>\n",
       "    </tr>\n",
       "  </thead>\n",
       "  <tbody>\n",
       "    <tr>\n",
       "      <th>0</th>\n",
       "      <td>Commercial</td>\n",
       "      <td>3230461110</td>\n",
       "      <td>2628 N 6TH ST</td>\n",
       "      <td>NaN</td>\n",
       "      <td>6</td>\n",
       "      <td>6258</td>\n",
       "      <td>Commercial Exempt</td>\n",
       "      <td>NaN</td>\n",
       "      <td>2.0</td>\n",
       "      <td>1880</td>\n",
       "      <td>0</td>\n",
       "      <td>1840</td>\n",
       "      <td>1</td>\n",
       "      <td>0</td>\n",
       "      <td>0</td>\n",
       "      <td>0</td>\n",
       "      <td>12750</td>\n",
       "      <td>2002-01</td>\n",
       "      <td>15900</td>\n",
       "    </tr>\n",
       "    <tr>\n",
       "      <th>1</th>\n",
       "      <td>Commercial</td>\n",
       "      <td>3590192000</td>\n",
       "      <td>1363 N PROSPECT AV</td>\n",
       "      <td>NaN</td>\n",
       "      <td>3</td>\n",
       "      <td>6262</td>\n",
       "      <td>Mansions With Commercial Usage</td>\n",
       "      <td>NaN</td>\n",
       "      <td>2.0</td>\n",
       "      <td>1876</td>\n",
       "      <td>0</td>\n",
       "      <td>6377</td>\n",
       "      <td>1</td>\n",
       "      <td>0</td>\n",
       "      <td>0</td>\n",
       "      <td>0</td>\n",
       "      <td>11840</td>\n",
       "      <td>2002-01</td>\n",
       "      <td>850000</td>\n",
       "    </tr>\n",
       "    <tr>\n",
       "      <th>2</th>\n",
       "      <td>Commercial</td>\n",
       "      <td>4161194000</td>\n",
       "      <td>617 S 94TH ST</td>\n",
       "      <td>NaN</td>\n",
       "      <td>10</td>\n",
       "      <td>6272</td>\n",
       "      <td>Service Building</td>\n",
       "      <td>NaN</td>\n",
       "      <td>1.0</td>\n",
       "      <td>1954</td>\n",
       "      <td>0</td>\n",
       "      <td>5022</td>\n",
       "      <td>1</td>\n",
       "      <td>0</td>\n",
       "      <td>0</td>\n",
       "      <td>0</td>\n",
       "      <td>9700</td>\n",
       "      <td>2002-01</td>\n",
       "      <td>119000</td>\n",
       "    </tr>\n",
       "    <tr>\n",
       "      <th>3</th>\n",
       "      <td>Commercial</td>\n",
       "      <td>1719836000</td>\n",
       "      <td>3624 W SILVER SPRING DR</td>\n",
       "      <td>NaN</td>\n",
       "      <td>1</td>\n",
       "      <td>6218</td>\n",
       "      <td>Store Bldg - Multi Story (Store &amp; Apt, Store &amp; O</td>\n",
       "      <td>NaN</td>\n",
       "      <td>2.0</td>\n",
       "      <td>1955</td>\n",
       "      <td>0</td>\n",
       "      <td>6420</td>\n",
       "      <td>1</td>\n",
       "      <td>0</td>\n",
       "      <td>0</td>\n",
       "      <td>0</td>\n",
       "      <td>8792</td>\n",
       "      <td>2002-01</td>\n",
       "      <td>210000</td>\n",
       "    </tr>\n",
       "    <tr>\n",
       "      <th>4</th>\n",
       "      <td>Commercial</td>\n",
       "      <td>3480290000</td>\n",
       "      <td>3830 W LISBON AV</td>\n",
       "      <td>NaN</td>\n",
       "      <td>15</td>\n",
       "      <td>6254</td>\n",
       "      <td>Store Bldg - Multi Story (Store &amp; Apt, Store &amp; O</td>\n",
       "      <td>NaN</td>\n",
       "      <td>2.0</td>\n",
       "      <td>1909</td>\n",
       "      <td>0</td>\n",
       "      <td>5956</td>\n",
       "      <td>1</td>\n",
       "      <td>0</td>\n",
       "      <td>0</td>\n",
       "      <td>0</td>\n",
       "      <td>4840</td>\n",
       "      <td>2002-01</td>\n",
       "      <td>48500</td>\n",
       "    </tr>\n",
       "  </tbody>\n",
       "</table>\n",
       "</div>"
      ],
      "text/plain": [
       "     PropType      Taxkey                  Address CondoProject  District  \\\n",
       "0  Commercial  3230461110            2628 N 6TH ST          NaN         6   \n",
       "1  Commercial  3590192000       1363 N PROSPECT AV          NaN         3   \n",
       "2  Commercial  4161194000            617 S 94TH ST          NaN        10   \n",
       "3  Commercial  1719836000  3624 W SILVER SPRING DR          NaN         1   \n",
       "4  Commercial  3480290000         3830 W LISBON AV          NaN        15   \n",
       "\n",
       "   Nbhd                                             Style Extwall  Stories  \\\n",
       "0  6258                                 Commercial Exempt     NaN      2.0   \n",
       "1  6262                    Mansions With Commercial Usage     NaN      2.0   \n",
       "2  6272                                  Service Building     NaN      1.0   \n",
       "3  6218  Store Bldg - Multi Story (Store & Apt, Store & O     NaN      2.0   \n",
       "4  6254  Store Bldg - Multi Story (Store & Apt, Store & O     NaN      2.0   \n",
       "\n",
       "   Year_Built  Nr_of_rms  Fin_sqft  Units  Bdrms  Fbath  Hbath  Lotsize  \\\n",
       "0        1880          0      1840      1      0      0      0    12750   \n",
       "1        1876          0      6377      1      0      0      0    11840   \n",
       "2        1954          0      5022      1      0      0      0     9700   \n",
       "3        1955          0      6420      1      0      0      0     8792   \n",
       "4        1909          0      5956      1      0      0      0     4840   \n",
       "\n",
       "  Sale_date  Sale_price  \n",
       "0   2002-01       15900  \n",
       "1   2002-01      850000  \n",
       "2   2002-01      119000  \n",
       "3   2002-01      210000  \n",
       "4   2002-01       48500  "
      ]
     },
     "execution_count": 317,
     "metadata": {},
     "output_type": "execute_result"
    }
   ],
   "source": [
    "df_1.head()"
   ]
  },
  {
   "cell_type": "markdown",
   "metadata": {},
   "source": [
    "## Read in the 2019-2022 csv file and make its format consistent with the 2002-2018 csv file"
   ]
  },
  {
   "cell_type": "code",
   "execution_count": 318,
   "metadata": {},
   "outputs": [],
   "source": [
    "df_2 = pd.read_csv('./data/combined_file.csv')"
   ]
  },
  {
   "cell_type": "code",
   "execution_count": 319,
   "metadata": {},
   "outputs": [
    {
     "data": {
      "text/html": [
       "<div>\n",
       "<style scoped>\n",
       "    .dataframe tbody tr th:only-of-type {\n",
       "        vertical-align: middle;\n",
       "    }\n",
       "\n",
       "    .dataframe tbody tr th {\n",
       "        vertical-align: top;\n",
       "    }\n",
       "\n",
       "    .dataframe thead th {\n",
       "        text-align: right;\n",
       "    }\n",
       "</style>\n",
       "<table border=\"1\" class=\"dataframe\">\n",
       "  <thead>\n",
       "    <tr style=\"text-align: right;\">\n",
       "      <th></th>\n",
       "      <th>PropType</th>\n",
       "      <th>Taxkey</th>\n",
       "      <th>Address</th>\n",
       "      <th>CondoProject</th>\n",
       "      <th>District</th>\n",
       "      <th>Nbhd</th>\n",
       "      <th>Style</th>\n",
       "      <th>Extwall</th>\n",
       "      <th>Stories</th>\n",
       "      <th>Year_Built</th>\n",
       "      <th>Nr_of_rms</th>\n",
       "      <th>Fin_sqft</th>\n",
       "      <th>Units</th>\n",
       "      <th>Bdrms</th>\n",
       "      <th>Fbath</th>\n",
       "      <th>Hbath</th>\n",
       "      <th>Lotsize</th>\n",
       "      <th>Sale_date</th>\n",
       "      <th>Sale_price</th>\n",
       "    </tr>\n",
       "  </thead>\n",
       "  <tbody>\n",
       "    <tr>\n",
       "      <th>0</th>\n",
       "      <td>Manufacturing</td>\n",
       "      <td>10011000.0</td>\n",
       "      <td>9400 N 124TH ST</td>\n",
       "      <td>NaN</td>\n",
       "      <td>9.0</td>\n",
       "      <td>6300.0</td>\n",
       "      <td>Pole Building</td>\n",
       "      <td>Metal Siding</td>\n",
       "      <td>1.0</td>\n",
       "      <td>2005.0</td>\n",
       "      <td>NaN</td>\n",
       "      <td>18000</td>\n",
       "      <td>1.0</td>\n",
       "      <td>NaN</td>\n",
       "      <td>NaN</td>\n",
       "      <td>NaN</td>\n",
       "      <td>0</td>\n",
       "      <td>3/11/2019</td>\n",
       "      <td>675000</td>\n",
       "    </tr>\n",
       "    <tr>\n",
       "      <th>1</th>\n",
       "      <td>Commercial</td>\n",
       "      <td>30023110.0</td>\n",
       "      <td>10545 W DONGES CT</td>\n",
       "      <td>NaN</td>\n",
       "      <td>9.0</td>\n",
       "      <td>6202.0</td>\n",
       "      <td>Warehouse Building - 1 Story</td>\n",
       "      <td>Concrete Block</td>\n",
       "      <td>1.0</td>\n",
       "      <td>1973.0</td>\n",
       "      <td>NaN</td>\n",
       "      <td>27940</td>\n",
       "      <td>5.0</td>\n",
       "      <td>NaN</td>\n",
       "      <td>NaN</td>\n",
       "      <td>NaN</td>\n",
       "      <td>100188</td>\n",
       "      <td>9/13/2019</td>\n",
       "      <td>1300000</td>\n",
       "    </tr>\n",
       "    <tr>\n",
       "      <th>2</th>\n",
       "      <td>Residential</td>\n",
       "      <td>40061000.0</td>\n",
       "      <td>9409 N MICHAEL CT</td>\n",
       "      <td>NaN</td>\n",
       "      <td>9.0</td>\n",
       "      <td>40.0</td>\n",
       "      <td>Ranch</td>\n",
       "      <td>Fiber Cement/Hardiplank</td>\n",
       "      <td>1.0</td>\n",
       "      <td>2006.0</td>\n",
       "      <td>9.0</td>\n",
       "      <td>2778</td>\n",
       "      <td>1.0</td>\n",
       "      <td>4.0</td>\n",
       "      <td>2.0</td>\n",
       "      <td>NaN</td>\n",
       "      <td>13831</td>\n",
       "      <td>7/25/2019</td>\n",
       "      <td>350000</td>\n",
       "    </tr>\n",
       "    <tr>\n",
       "      <th>3</th>\n",
       "      <td>Residential</td>\n",
       "      <td>40066000.0</td>\n",
       "      <td>9469 N MICHAEL CT</td>\n",
       "      <td>NaN</td>\n",
       "      <td>9.0</td>\n",
       "      <td>40.0</td>\n",
       "      <td>Tudor</td>\n",
       "      <td>Fiber Cement/Hardiplank</td>\n",
       "      <td>2.0</td>\n",
       "      <td>2006.0</td>\n",
       "      <td>9.0</td>\n",
       "      <td>2936</td>\n",
       "      <td>1.0</td>\n",
       "      <td>4.0</td>\n",
       "      <td>2.0</td>\n",
       "      <td>1.0</td>\n",
       "      <td>10607</td>\n",
       "      <td>9/27/2019</td>\n",
       "      <td>380000</td>\n",
       "    </tr>\n",
       "    <tr>\n",
       "      <th>4</th>\n",
       "      <td>Residential</td>\n",
       "      <td>50026000.0</td>\n",
       "      <td>9313 N JOYCE AV</td>\n",
       "      <td>NaN</td>\n",
       "      <td>9.0</td>\n",
       "      <td>40.0</td>\n",
       "      <td>Ranch</td>\n",
       "      <td>Aluminum/Vinyl</td>\n",
       "      <td>1.0</td>\n",
       "      <td>1980.0</td>\n",
       "      <td>5.0</td>\n",
       "      <td>1007</td>\n",
       "      <td>1.0</td>\n",
       "      <td>3.0</td>\n",
       "      <td>1.0</td>\n",
       "      <td>NaN</td>\n",
       "      <td>9170</td>\n",
       "      <td>8/23/2019</td>\n",
       "      <td>135000</td>\n",
       "    </tr>\n",
       "  </tbody>\n",
       "</table>\n",
       "</div>"
      ],
      "text/plain": [
       "        PropType      Taxkey            Address CondoProject  District  \\\n",
       "0  Manufacturing  10011000.0    9400 N 124TH ST          NaN       9.0   \n",
       "1     Commercial  30023110.0  10545 W DONGES CT          NaN       9.0   \n",
       "2    Residential  40061000.0  9409 N MICHAEL CT          NaN       9.0   \n",
       "3    Residential  40066000.0  9469 N MICHAEL CT          NaN       9.0   \n",
       "4    Residential  50026000.0    9313 N JOYCE AV          NaN       9.0   \n",
       "\n",
       "     Nbhd                         Style                  Extwall  Stories  \\\n",
       "0  6300.0                 Pole Building             Metal Siding      1.0   \n",
       "1  6202.0  Warehouse Building - 1 Story           Concrete Block      1.0   \n",
       "2    40.0                         Ranch  Fiber Cement/Hardiplank      1.0   \n",
       "3    40.0                         Tudor  Fiber Cement/Hardiplank      2.0   \n",
       "4    40.0                         Ranch           Aluminum/Vinyl      1.0   \n",
       "\n",
       "   Year_Built  Nr_of_rms Fin_sqft  Units  Bdrms  Fbath  Hbath Lotsize  \\\n",
       "0      2005.0        NaN    18000    1.0    NaN    NaN    NaN       0   \n",
       "1      1973.0        NaN    27940    5.0    NaN    NaN    NaN  100188   \n",
       "2      2006.0        9.0     2778    1.0    4.0    2.0    NaN   13831   \n",
       "3      2006.0        9.0     2936    1.0    4.0    2.0    1.0   10607   \n",
       "4      1980.0        5.0     1007    1.0    3.0    1.0    NaN    9170   \n",
       "\n",
       "   Sale_date Sale_price  \n",
       "0  3/11/2019     675000  \n",
       "1  9/13/2019    1300000  \n",
       "2  7/25/2019     350000  \n",
       "3  9/27/2019     380000  \n",
       "4  8/23/2019     135000  "
      ]
     },
     "execution_count": 319,
     "metadata": {},
     "output_type": "execute_result"
    }
   ],
   "source": [
    "df_2.head()"
   ]
  },
  {
   "cell_type": "markdown",
   "metadata": {},
   "source": [
    "### Convert to datetime format"
   ]
  },
  {
   "cell_type": "code",
   "execution_count": 320,
   "metadata": {},
   "outputs": [],
   "source": [
    "df_2['Sale_date'] = pd.to_datetime(df_2['Sale_date'], format='%m/%d/%Y')\n"
   ]
  },
  {
   "cell_type": "code",
   "execution_count": 321,
   "metadata": {},
   "outputs": [
    {
     "data": {
      "text/plain": [
       "PropType                object\n",
       "Taxkey                 float64\n",
       "Address                 object\n",
       "CondoProject            object\n",
       "District               float64\n",
       "Nbhd                   float64\n",
       "Style                   object\n",
       "Extwall                 object\n",
       "Stories                float64\n",
       "Year_Built             float64\n",
       "Nr_of_rms              float64\n",
       "Fin_sqft                object\n",
       "Units                  float64\n",
       "Bdrms                  float64\n",
       "Fbath                  float64\n",
       "Hbath                  float64\n",
       "Lotsize                 object\n",
       "Sale_date       datetime64[ns]\n",
       "Sale_price              object\n",
       "dtype: object"
      ]
     },
     "execution_count": 321,
     "metadata": {},
     "output_type": "execute_result"
    }
   ],
   "source": [
    "df_2.dtypes"
   ]
  },
  {
   "cell_type": "code",
   "execution_count": 322,
   "metadata": {},
   "outputs": [],
   "source": [
    "## Convert to Year, Month format\n",
    "df_2['Sale_date'] = df_2['Sale_date'].dt.strftime('%Y-%m')\n"
   ]
  },
  {
   "cell_type": "code",
   "execution_count": 323,
   "metadata": {},
   "outputs": [
    {
     "data": {
      "text/html": [
       "<div>\n",
       "<style scoped>\n",
       "    .dataframe tbody tr th:only-of-type {\n",
       "        vertical-align: middle;\n",
       "    }\n",
       "\n",
       "    .dataframe tbody tr th {\n",
       "        vertical-align: top;\n",
       "    }\n",
       "\n",
       "    .dataframe thead th {\n",
       "        text-align: right;\n",
       "    }\n",
       "</style>\n",
       "<table border=\"1\" class=\"dataframe\">\n",
       "  <thead>\n",
       "    <tr style=\"text-align: right;\">\n",
       "      <th></th>\n",
       "      <th>PropType</th>\n",
       "      <th>Taxkey</th>\n",
       "      <th>Address</th>\n",
       "      <th>CondoProject</th>\n",
       "      <th>District</th>\n",
       "      <th>Nbhd</th>\n",
       "      <th>Style</th>\n",
       "      <th>Extwall</th>\n",
       "      <th>Stories</th>\n",
       "      <th>Year_Built</th>\n",
       "      <th>Nr_of_rms</th>\n",
       "      <th>Fin_sqft</th>\n",
       "      <th>Units</th>\n",
       "      <th>Bdrms</th>\n",
       "      <th>Fbath</th>\n",
       "      <th>Hbath</th>\n",
       "      <th>Lotsize</th>\n",
       "      <th>Sale_date</th>\n",
       "      <th>Sale_price</th>\n",
       "    </tr>\n",
       "  </thead>\n",
       "  <tbody>\n",
       "    <tr>\n",
       "      <th>0</th>\n",
       "      <td>Manufacturing</td>\n",
       "      <td>10011000.0</td>\n",
       "      <td>9400 N 124TH ST</td>\n",
       "      <td>NaN</td>\n",
       "      <td>9.0</td>\n",
       "      <td>6300.0</td>\n",
       "      <td>Pole Building</td>\n",
       "      <td>Metal Siding</td>\n",
       "      <td>1.0</td>\n",
       "      <td>2005.0</td>\n",
       "      <td>NaN</td>\n",
       "      <td>18000</td>\n",
       "      <td>1.0</td>\n",
       "      <td>NaN</td>\n",
       "      <td>NaN</td>\n",
       "      <td>NaN</td>\n",
       "      <td>0</td>\n",
       "      <td>2019-03</td>\n",
       "      <td>675000</td>\n",
       "    </tr>\n",
       "    <tr>\n",
       "      <th>1</th>\n",
       "      <td>Commercial</td>\n",
       "      <td>30023110.0</td>\n",
       "      <td>10545 W DONGES CT</td>\n",
       "      <td>NaN</td>\n",
       "      <td>9.0</td>\n",
       "      <td>6202.0</td>\n",
       "      <td>Warehouse Building - 1 Story</td>\n",
       "      <td>Concrete Block</td>\n",
       "      <td>1.0</td>\n",
       "      <td>1973.0</td>\n",
       "      <td>NaN</td>\n",
       "      <td>27940</td>\n",
       "      <td>5.0</td>\n",
       "      <td>NaN</td>\n",
       "      <td>NaN</td>\n",
       "      <td>NaN</td>\n",
       "      <td>100188</td>\n",
       "      <td>2019-09</td>\n",
       "      <td>1300000</td>\n",
       "    </tr>\n",
       "    <tr>\n",
       "      <th>2</th>\n",
       "      <td>Residential</td>\n",
       "      <td>40061000.0</td>\n",
       "      <td>9409 N MICHAEL CT</td>\n",
       "      <td>NaN</td>\n",
       "      <td>9.0</td>\n",
       "      <td>40.0</td>\n",
       "      <td>Ranch</td>\n",
       "      <td>Fiber Cement/Hardiplank</td>\n",
       "      <td>1.0</td>\n",
       "      <td>2006.0</td>\n",
       "      <td>9.0</td>\n",
       "      <td>2778</td>\n",
       "      <td>1.0</td>\n",
       "      <td>4.0</td>\n",
       "      <td>2.0</td>\n",
       "      <td>NaN</td>\n",
       "      <td>13831</td>\n",
       "      <td>2019-07</td>\n",
       "      <td>350000</td>\n",
       "    </tr>\n",
       "    <tr>\n",
       "      <th>3</th>\n",
       "      <td>Residential</td>\n",
       "      <td>40066000.0</td>\n",
       "      <td>9469 N MICHAEL CT</td>\n",
       "      <td>NaN</td>\n",
       "      <td>9.0</td>\n",
       "      <td>40.0</td>\n",
       "      <td>Tudor</td>\n",
       "      <td>Fiber Cement/Hardiplank</td>\n",
       "      <td>2.0</td>\n",
       "      <td>2006.0</td>\n",
       "      <td>9.0</td>\n",
       "      <td>2936</td>\n",
       "      <td>1.0</td>\n",
       "      <td>4.0</td>\n",
       "      <td>2.0</td>\n",
       "      <td>1.0</td>\n",
       "      <td>10607</td>\n",
       "      <td>2019-09</td>\n",
       "      <td>380000</td>\n",
       "    </tr>\n",
       "    <tr>\n",
       "      <th>4</th>\n",
       "      <td>Residential</td>\n",
       "      <td>50026000.0</td>\n",
       "      <td>9313 N JOYCE AV</td>\n",
       "      <td>NaN</td>\n",
       "      <td>9.0</td>\n",
       "      <td>40.0</td>\n",
       "      <td>Ranch</td>\n",
       "      <td>Aluminum/Vinyl</td>\n",
       "      <td>1.0</td>\n",
       "      <td>1980.0</td>\n",
       "      <td>5.0</td>\n",
       "      <td>1007</td>\n",
       "      <td>1.0</td>\n",
       "      <td>3.0</td>\n",
       "      <td>1.0</td>\n",
       "      <td>NaN</td>\n",
       "      <td>9170</td>\n",
       "      <td>2019-08</td>\n",
       "      <td>135000</td>\n",
       "    </tr>\n",
       "  </tbody>\n",
       "</table>\n",
       "</div>"
      ],
      "text/plain": [
       "        PropType      Taxkey            Address CondoProject  District  \\\n",
       "0  Manufacturing  10011000.0    9400 N 124TH ST          NaN       9.0   \n",
       "1     Commercial  30023110.0  10545 W DONGES CT          NaN       9.0   \n",
       "2    Residential  40061000.0  9409 N MICHAEL CT          NaN       9.0   \n",
       "3    Residential  40066000.0  9469 N MICHAEL CT          NaN       9.0   \n",
       "4    Residential  50026000.0    9313 N JOYCE AV          NaN       9.0   \n",
       "\n",
       "     Nbhd                         Style                  Extwall  Stories  \\\n",
       "0  6300.0                 Pole Building             Metal Siding      1.0   \n",
       "1  6202.0  Warehouse Building - 1 Story           Concrete Block      1.0   \n",
       "2    40.0                         Ranch  Fiber Cement/Hardiplank      1.0   \n",
       "3    40.0                         Tudor  Fiber Cement/Hardiplank      2.0   \n",
       "4    40.0                         Ranch           Aluminum/Vinyl      1.0   \n",
       "\n",
       "   Year_Built  Nr_of_rms Fin_sqft  Units  Bdrms  Fbath  Hbath Lotsize  \\\n",
       "0      2005.0        NaN    18000    1.0    NaN    NaN    NaN       0   \n",
       "1      1973.0        NaN    27940    5.0    NaN    NaN    NaN  100188   \n",
       "2      2006.0        9.0     2778    1.0    4.0    2.0    NaN   13831   \n",
       "3      2006.0        9.0     2936    1.0    4.0    2.0    1.0   10607   \n",
       "4      1980.0        5.0     1007    1.0    3.0    1.0    NaN    9170   \n",
       "\n",
       "  Sale_date Sale_price  \n",
       "0   2019-03     675000  \n",
       "1   2019-09    1300000  \n",
       "2   2019-07     350000  \n",
       "3   2019-09     380000  \n",
       "4   2019-08     135000  "
      ]
     },
     "execution_count": 323,
     "metadata": {},
     "output_type": "execute_result"
    }
   ],
   "source": [
    "df_2.head()"
   ]
  },
  {
   "cell_type": "markdown",
   "metadata": {},
   "source": [
    "## Remove missing values, dropping features and convert necessary dtypes into the correct format before merging"
   ]
  },
  {
   "cell_type": "code",
   "execution_count": 324,
   "metadata": {},
   "outputs": [
    {
     "data": {
      "text/plain": [
       "(26220, 19)"
      ]
     },
     "execution_count": 324,
     "metadata": {},
     "output_type": "execute_result"
    }
   ],
   "source": [
    "df_2.shape"
   ]
  },
  {
   "cell_type": "code",
   "execution_count": 325,
   "metadata": {},
   "outputs": [],
   "source": [
    "df_2.drop(['CondoProject', 'Taxkey'], axis=1, inplace=True)"
   ]
  },
  {
   "cell_type": "code",
   "execution_count": 326,
   "metadata": {},
   "outputs": [
    {
     "data": {
      "text/plain": [
       "PropType        10\n",
       "Address          6\n",
       "District         4\n",
       "Nbhd            59\n",
       "Style           70\n",
       "Extwall       3572\n",
       "Stories        131\n",
       "Year_Built      44\n",
       "Nr_of_rms     1273\n",
       "Fin_sqft        77\n",
       "Units            2\n",
       "Bdrms         1272\n",
       "Fbath          657\n",
       "Hbath         4842\n",
       "Lotsize          3\n",
       "Sale_date        2\n",
       "Sale_price      12\n",
       "dtype: int64"
      ]
     },
     "execution_count": 326,
     "metadata": {},
     "output_type": "execute_result"
    }
   ],
   "source": [
    "df_2.isna().sum()"
   ]
  },
  {
   "cell_type": "code",
   "execution_count": 327,
   "metadata": {},
   "outputs": [],
   "source": [
    "df_2.dropna(inplace=True)"
   ]
  },
  {
   "cell_type": "code",
   "execution_count": 328,
   "metadata": {},
   "outputs": [
    {
     "data": {
      "text/plain": [
       "PropType      0\n",
       "Address       0\n",
       "District      0\n",
       "Nbhd          0\n",
       "Style         0\n",
       "Extwall       0\n",
       "Stories       0\n",
       "Year_Built    0\n",
       "Nr_of_rms     0\n",
       "Fin_sqft      0\n",
       "Units         0\n",
       "Bdrms         0\n",
       "Fbath         0\n",
       "Hbath         0\n",
       "Lotsize       0\n",
       "Sale_date     0\n",
       "Sale_price    0\n",
       "dtype: int64"
      ]
     },
     "execution_count": 328,
     "metadata": {},
     "output_type": "execute_result"
    }
   ],
   "source": [
    "df_2.isna().sum()"
   ]
  },
  {
   "cell_type": "code",
   "execution_count": 329,
   "metadata": {},
   "outputs": [
    {
     "data": {
      "text/plain": [
       "(17399, 17)"
      ]
     },
     "execution_count": 329,
     "metadata": {},
     "output_type": "execute_result"
    }
   ],
   "source": [
    "df_2.shape"
   ]
  },
  {
   "cell_type": "code",
   "execution_count": 330,
   "metadata": {},
   "outputs": [
    {
     "data": {
      "text/plain": [
       "(34523, 19)"
      ]
     },
     "execution_count": 330,
     "metadata": {},
     "output_type": "execute_result"
    }
   ],
   "source": [
    "df_1.shape"
   ]
  },
  {
   "cell_type": "code",
   "execution_count": 331,
   "metadata": {},
   "outputs": [
    {
     "data": {
      "text/plain": [
       "PropType            3\n",
       "Taxkey              0\n",
       "Address             0\n",
       "CondoProject    27867\n",
       "District            0\n",
       "Nbhd                0\n",
       "Style               6\n",
       "Extwall          9899\n",
       "Stories             0\n",
       "Year_Built          0\n",
       "Nr_of_rms           0\n",
       "Fin_sqft            0\n",
       "Units               0\n",
       "Bdrms               0\n",
       "Fbath               0\n",
       "Hbath               0\n",
       "Lotsize             0\n",
       "Sale_date           0\n",
       "Sale_price          0\n",
       "dtype: int64"
      ]
     },
     "execution_count": 331,
     "metadata": {},
     "output_type": "execute_result"
    }
   ],
   "source": [
    "df_1.isna().sum()"
   ]
  },
  {
   "cell_type": "code",
   "execution_count": 332,
   "metadata": {},
   "outputs": [],
   "source": [
    "df_1.drop(['CondoProject','Taxkey'], axis=1, inplace=True)"
   ]
  },
  {
   "cell_type": "code",
   "execution_count": 333,
   "metadata": {},
   "outputs": [],
   "source": [
    "df_1.dropna(inplace=True)"
   ]
  },
  {
   "cell_type": "code",
   "execution_count": 334,
   "metadata": {},
   "outputs": [
    {
     "data": {
      "text/plain": [
       "(24624, 17)"
      ]
     },
     "execution_count": 334,
     "metadata": {},
     "output_type": "execute_result"
    }
   ],
   "source": [
    "df_1.shape"
   ]
  },
  {
   "cell_type": "markdown",
   "metadata": {},
   "source": [
    "## Convert dtypes into the format of df_1"
   ]
  },
  {
   "cell_type": "code",
   "execution_count": 335,
   "metadata": {},
   "outputs": [
    {
     "data": {
      "text/plain": [
       "PropType       object\n",
       "Address        object\n",
       "District        int64\n",
       "Nbhd            int64\n",
       "Style          object\n",
       "Extwall        object\n",
       "Stories       float64\n",
       "Year_Built      int64\n",
       "Nr_of_rms       int64\n",
       "Fin_sqft        int64\n",
       "Units           int64\n",
       "Bdrms           int64\n",
       "Fbath           int64\n",
       "Hbath           int64\n",
       "Lotsize         int64\n",
       "Sale_date      object\n",
       "Sale_price      int64\n",
       "dtype: object"
      ]
     },
     "execution_count": 335,
     "metadata": {},
     "output_type": "execute_result"
    }
   ],
   "source": [
    "df_1.dtypes"
   ]
  },
  {
   "cell_type": "code",
   "execution_count": 336,
   "metadata": {},
   "outputs": [
    {
     "data": {
      "text/plain": [
       "PropType       object\n",
       "Address        object\n",
       "District      float64\n",
       "Nbhd          float64\n",
       "Style          object\n",
       "Extwall        object\n",
       "Stories       float64\n",
       "Year_Built    float64\n",
       "Nr_of_rms     float64\n",
       "Fin_sqft       object\n",
       "Units         float64\n",
       "Bdrms         float64\n",
       "Fbath         float64\n",
       "Hbath         float64\n",
       "Lotsize        object\n",
       "Sale_date      object\n",
       "Sale_price     object\n",
       "dtype: object"
      ]
     },
     "execution_count": 336,
     "metadata": {},
     "output_type": "execute_result"
    }
   ],
   "source": [
    "df_2.dtypes"
   ]
  },
  {
   "cell_type": "code",
   "execution_count": 338,
   "metadata": {},
   "outputs": [],
   "source": [
    "## Dtypes conversion\n",
    "\n",
    "df_2['District'] = df_2['District'].astype('int64')\n",
    "df_2['Nbhd'] = df_2['Nbhd'].astype('int64')\n",
    "df_2['Year_Built'] = df_2['Year_Built'].astype('int64')\n",
    "df_2['Nr_of_rms'] = df_2['Nr_of_rms'].astype('int64')\n",
    "# Remove commas and convert 'Fin_sqft' to int\n",
    "df_2['Fin_sqft'] = df_2['Fin_sqft'].str.replace(',', '').astype('int64')\n",
    "df_2['Units'] = df_2['Units'].astype('int64')\n",
    "df_2['Bdrms'] = df_2['Bdrms'].astype('int64')\n",
    "df_2['Fbath'] = df_2['Fbath'].astype('int64')\n",
    "df_2['Hbath'] = df_2['Hbath'].astype('int64')\n",
    "df_2['Lotsize'] = df_2['Lotsize'].str.replace(',', '').astype('int64')\n",
    "# Remove non-numeric characters and convert 'Sale_price' to int\n",
    "df_2['Sale_price'] = df_2['Sale_price'].str.replace('[^\\d]', '', regex=True).astype('int64')\n",
    "\n"
   ]
  },
  {
   "cell_type": "code",
   "execution_count": 340,
   "metadata": {},
   "outputs": [
    {
     "data": {
      "text/plain": [
       "PropType       object\n",
       "Address        object\n",
       "District        int64\n",
       "Nbhd            int64\n",
       "Style          object\n",
       "Extwall        object\n",
       "Stories       float64\n",
       "Year_Built      int64\n",
       "Nr_of_rms       int64\n",
       "Fin_sqft        int64\n",
       "Units           int64\n",
       "Bdrms           int64\n",
       "Fbath           int64\n",
       "Hbath           int64\n",
       "Lotsize         int64\n",
       "Sale_date      object\n",
       "Sale_price      int64\n",
       "dtype: object"
      ]
     },
     "execution_count": 340,
     "metadata": {},
     "output_type": "execute_result"
    }
   ],
   "source": [
    "df_1.dtypes"
   ]
  },
  {
   "cell_type": "code",
   "execution_count": 339,
   "metadata": {},
   "outputs": [
    {
     "data": {
      "text/plain": [
       "PropType       object\n",
       "Address        object\n",
       "District        int64\n",
       "Nbhd            int64\n",
       "Style          object\n",
       "Extwall        object\n",
       "Stories       float64\n",
       "Year_Built      int64\n",
       "Nr_of_rms       int64\n",
       "Fin_sqft        int64\n",
       "Units           int64\n",
       "Bdrms           int64\n",
       "Fbath           int64\n",
       "Hbath           int64\n",
       "Lotsize         int64\n",
       "Sale_date      object\n",
       "Sale_price      int64\n",
       "dtype: object"
      ]
     },
     "execution_count": 339,
     "metadata": {},
     "output_type": "execute_result"
    }
   ],
   "source": [
    "df_2.dtypes"
   ]
  },
  {
   "cell_type": "code",
   "execution_count": 350,
   "metadata": {},
   "outputs": [],
   "source": [
    "df_1.to_csv('df_1.csv', index=False)\n",
    "df_2.to_csv('df_2.csv', index=False)"
   ]
  },
  {
   "cell_type": "markdown",
   "metadata": {},
   "source": [
    "## Merge 2002-2018 with 2019-2022 csv files"
   ]
  },
  {
   "cell_type": "code",
   "execution_count": 361,
   "metadata": {},
   "outputs": [],
   "source": [
    "# Path to the directory containing CSV files\n",
    "directory_path = './merged_data/'\n",
    "\n",
    "# List all CSV files in the directory\n",
    "csv_files = glob.glob(os.path.join(directory_path, '*.csv'))\n",
    "\n",
    "# Combine CSV files into a single DataFrame\n",
    "combined_df = pd.concat((pd.read_csv(f) for f in csv_files), ignore_index=True)\n",
    "\n",
    "# Save the combined DataFrame to a new CSV file\n",
    "combined_df.to_csv(os.path.join(directory_path, '2002-2022-data.csv'), index=False)"
   ]
  },
  {
   "cell_type": "code",
   "execution_count": null,
   "metadata": {},
   "outputs": [],
   "source": []
  }
 ],
 "metadata": {
  "kernelspec": {
   "display_name": "basic_ds",
   "language": "python",
   "name": "python3"
  },
  "language_info": {
   "codemirror_mode": {
    "name": "ipython",
    "version": 3
   },
   "file_extension": ".py",
   "mimetype": "text/x-python",
   "name": "python",
   "nbconvert_exporter": "python",
   "pygments_lexer": "ipython3",
   "version": "3.11.4"
  }
 },
 "nbformat": 4,
 "nbformat_minor": 2
}
